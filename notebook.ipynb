{
 "metadata": {
  "language_info": {
   "codemirror_mode": {
    "name": "ipython",
    "version": 3
   },
   "file_extension": ".py",
   "mimetype": "text/x-python",
   "name": "python",
   "nbconvert_exporter": "python",
   "pygments_lexer": "ipython3",
   "version": "3.8.6-final"
  },
  "orig_nbformat": 2,
  "kernelspec": {
   "name": "Python 3.8.6 64-bit ('3.8.6')",
   "display_name": "Python 3.8.6 64-bit ('3.8.6')",
   "metadata": {
    "interpreter": {
     "hash": "27463e7d8f9c81c6c5e4312c7cb37a0a8f9c5b1225598cec8ab1817ebf8c64d0"
    }
   }
  }
 },
 "nbformat": 4,
 "nbformat_minor": 2,
 "cells": [
  {
   "cell_type": "code",
   "execution_count": 110,
   "metadata": {
    "tags": []
   },
   "outputs": [],
   "source": [
    "import pandas\n",
    "\n",
    "df_train = pandas.read_csv('./train.csv', quotechar=\"\\'\")\n",
    "df_test = pandas.read_csv('./test.labeled.csv', quotechar=\"\\'\")"
   ]
  },
  {
   "cell_type": "code",
   "execution_count": 111,
   "metadata": {},
   "outputs": [
    {
     "output_type": "stream",
     "name": "stdout",
     "text": [
      "Downloading emoji data ...\n",
      "... OK (Got response in 0.46 seconds)\n",
      "Writing emoji data to /home/kodir/.demoji/codes.json ...\n",
      "... OK\n"
     ]
    }
   ],
   "source": [
    "import re\n",
    "import string\n",
    "import demoji\n",
    "from Sastrawi.Stemmer.StemmerFactory import StemmerFactory\n",
    "from sklearn.feature_extraction.text import CountVectorizer\n",
    "\n",
    "demoji.download_codes()\n",
    "def clean_tweets(data):\n",
    "    new_data = data.copy()\n",
    "\n",
    "    username_hash = r'[#@]\\w+'\n",
    "    punctuation = '[%s]+' % re.escape(string.punctuation)\n",
    "    special_char = r'[^0-9a-zA-Z\\s]+'\n",
    "    number = r'[0-9]+'\n",
    "    space = r'\\s{2,}'\n",
    "    space_begin_end = r'^\\s+|\\s+$'\n",
    "    url = r'(https?|www):\\/{1,}\\w+\\W+\\w+\\/{1,}\\w+'\n",
    "    char_ref = r'&\\w+;'\n",
    "\n",
    "    for i in range(len(new_data)):\n",
    "        old_str = str(new_data[i])\n",
    "\n",
    "        new_data[i] = re.sub(char_ref, ' ', old_str)\n",
    "        new_data[i] = re.sub(username_hash, '', old_str)\n",
    "        new_data[i] = re.sub(url, '', old_str)\n",
    "        new_data[i] = re.sub(punctuation, '', old_str)\n",
    "        new_data[i] = re.sub(number, '', old_str)\n",
    "        new_data[i] = re.sub(space_begin_end, '', old_str)\n",
    "        new_data[i] = re.sub(space, '', old_str)\n",
    "        new_data[i] = demoji.replace(old_str, '')\n",
    "        new_data[i] = re.sub(special_char, '', old_str)\n",
    "\n",
    "    return new_data\n",
    "\n",
    "def case_fold(data):\n",
    "    new_data = data.copy()\n",
    "    return list(map(lambda s: s.lower(), new_data))\n",
    "\n",
    "def tokenize(data):\n",
    "    new_data = data.copy()\n",
    "    return list(map(lambda s: s.split(' '), new_data))\n",
    "\n",
    "def stem(data):\n",
    "    new_data = data.copy()\n",
    "    stemmer = StemmerFactory().create_stemmer()\n",
    "\n",
    "    return list(map(lambda s: stemmer.stem(s), new_data))"
   ]
  },
  {
   "cell_type": "code",
   "execution_count": 112,
   "metadata": {
    "tags": []
   },
   "outputs": [],
   "source": [
    "tweet_train = stem(case_fold(clean_tweets(df_train['tweet'])))\n",
    "tweet_test = stem(case_fold(clean_tweets(df_test['tweet'])))"
   ]
  },
  {
   "cell_type": "code",
   "execution_count": 113,
   "metadata": {},
   "outputs": [],
   "source": [
    "from sklearn.feature_extraction.text import TfidfVectorizer\n",
    "\n",
    "tfidf_vect = TfidfVectorizer(use_idf=True)\n",
    "tweet_train_vect = tfidf_vect.fit_transform(tweet_train)\n",
    "tweet_test_vect = tfidf_vect.transform(tweet_test)"
   ]
  },
  {
   "cell_type": "code",
   "execution_count": 114,
   "metadata": {
    "tags": []
   },
   "outputs": [
    {
     "output_type": "stream",
     "name": "stdout",
     "text": [
      "Positive Percentage : 24.88479262672811\n",
      "Negative Percentage : 75.11520737327189\n",
      "Classification Accuracy : 80.4147465437788\n"
     ]
    }
   ],
   "source": [
    "from sklearn.svm import SVC\n",
    "from sklearn.metrics import accuracy_score\n",
    "\n",
    "svm_c = SVC(kernel='linear')\n",
    "svm_c.fit(tweet_train_vect, df_train['category'])\n",
    "\n",
    "pred = svm_c.predict(tweet_test_vect)\n",
    "\n",
    "pos = list(filter(lambda s: s == 'positif', pred))\n",
    "neg = list(filter(lambda s: s == 'negatif', pred))\n",
    "\n",
    "total = len(df_test['tweet'])\n",
    "pos_percent = (len(pos) / total) * 100\n",
    "neg_percent = (len(neg) / total) * 100\n",
    "accuracy = accuracy_score(df_test['category'], pred) * 100\n",
    "\n",
    "print(f\"Positive Percentage : {pos_percent}\")\n",
    "print(f\"Negative Percentage : {neg_percent}\")\n",
    "print(f\"Classification Accuracy : {accuracy}\")"
   ]
  },
  {
   "cell_type": "code",
   "execution_count": 115,
   "metadata": {},
   "outputs": [],
   "source": [
    "# from sklearn.feature_extraction.text import CountVectorizer\n",
    "# import matplotlib.pyplot as plt\n",
    "# import numpy as np\n",
    "\n",
    "# def plot_coefficients(classifier, feature_names, top_features=20):\n",
    "#     coef = np.array(classifier.coef_).flatten()\n",
    "\n",
    "#     top_positive_coefficients = np.argsort(coef)[-top_features:]\n",
    "#     top_negative_coefficients = np.argsort(coef)[:top_features]\n",
    "#     top_coefficients = np.hstack([top_negative_coefficients, top_positive_coefficients])\n",
    "\n",
    "#     # create plot\n",
    "#     plt.figure(figsize=(15, 5))\n",
    "#     colors = ['red' if c < 0 else 'blue' for c in coef[top_coefficients]]\n",
    "#     plt.bar(np.arange(2 * top_features), coef[top_coefficients], color=colors)\n",
    "#     feature_names = np.array(feature_names)\n",
    "#     plt.xticks(np.arange(1, 1 + 2 * top_features), feature_names[top_coefficients], rotation=60, ha='right')\n",
    "\n",
    "#     plt.show()\n",
    "\n",
    "# cv = CountVectorizer()\n",
    "# cv.fit(tweet_test)\n",
    "\n",
    "# plot_coefficients(svm_c, cv.get_feature_names())"
   ]
  },
  {
   "cell_type": "code",
   "execution_count": 116,
   "metadata": {},
   "outputs": [],
   "source": [
    "# TODO : test our model here"
   ]
  }
 ]
}