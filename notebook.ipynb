{
 "metadata": {
  "language_info": {
   "codemirror_mode": {
    "name": "ipython",
    "version": 3
   },
   "file_extension": ".py",
   "mimetype": "text/x-python",
   "name": "python",
   "nbconvert_exporter": "python",
   "pygments_lexer": "ipython3",
   "version": "3.8.6-final"
  },
  "orig_nbformat": 2,
  "kernelspec": {
   "name": "Python 3.8.6 64-bit ('3.8.6')",
   "display_name": "Python 3.8.6 64-bit ('3.8.6')",
   "metadata": {
    "interpreter": {
     "hash": "27463e7d8f9c81c6c5e4312c7cb37a0a8f9c5b1225598cec8ab1817ebf8c64d0"
    }
   }
  }
 },
 "nbformat": 4,
 "nbformat_minor": 2,
 "cells": [
  {
   "cell_type": "code",
   "execution_count": 220,
   "metadata": {
    "tags": []
   },
   "outputs": [],
   "source": [
    "import pandas\n",
    "\n",
    "df_train = pandas.read_csv('./train.csv', quotechar=\"\\'\")\n",
    "df_test = pandas.read_csv('./test.csv', quotechar=\"\\'\")"
   ]
  },
  {
   "cell_type": "code",
   "execution_count": 221,
   "metadata": {},
   "outputs": [
    {
     "output_type": "stream",
     "name": "stdout",
     "text": [
      "Downloading emoji data ...\n",
      "... OK (Got response in 0.47 seconds)\n",
      "Writing emoji data to /Users/bangkodir/.demoji/codes.json ...\n",
      "... OK\n"
     ]
    }
   ],
   "source": [
    "import re\n",
    "import string\n",
    "import demoji\n",
    "from Sastrawi.Stemmer.StemmerFactory import StemmerFactory\n",
    "from sklearn.feature_extraction.text import CountVectorizer\n",
    "\n",
    "demoji.download_codes()\n",
    "def clean_tweets(data):\n",
    "    new_data = data.copy()\n",
    "\n",
    "    username_hash = r'[#@]\\w+'\n",
    "    punctuation = '[%s]+' % re.escape(string.punctuation)\n",
    "    special_char = r'[^0-9a-zA-Z\\s]+'\n",
    "    number = r'[0-9]+'\n",
    "    space = r'\\s{2,}'\n",
    "    space_begin_end = r'^\\s+|\\s+$'\n",
    "    url = r'(https?|www):\\/{1,}\\w+\\W+\\w+\\/{1,}\\w+'\n",
    "    char_ref = r'&\\w+;'\n",
    "\n",
    "    for i in range(len(new_data)):\n",
    "        new_data[i] = re.sub(char_ref, ' ', new_data[i])\n",
    "        new_data[i] = re.sub(username_hash, '', new_data[i])\n",
    "        new_data[i] = re.sub(url, '', new_data[i])\n",
    "        new_data[i] = re.sub(punctuation, '', new_data[i])\n",
    "        new_data[i] = re.sub(number, '', new_data[i])\n",
    "        new_data[i] = re.sub(space_begin_end, '', new_data[i])\n",
    "        new_data[i] = re.sub(space, '', new_data[i])\n",
    "        new_data[i] = demoji.replace(new_data[i], '')\n",
    "        new_data[i] = re.sub(special_char, '', new_data[i])\n",
    "\n",
    "    return new_data\n",
    "\n",
    "def case_fold(data):\n",
    "    new_data = data.copy()\n",
    "    return list(map(lambda s: s.lower(), new_data))\n",
    "\n",
    "def tokenize(data):\n",
    "    new_data = data.copy()\n",
    "    return list(map(lambda s: s.split(' '), new_data))\n",
    "\n",
    "def stem(data):\n",
    "    new_data = data.copy()\n",
    "    stemmer = StemmerFactory().create_stemmer()\n",
    "\n",
    "    return list(map(lambda s: stemmer.stem(s), new_data))"
   ]
  },
  {
   "cell_type": "code",
   "execution_count": 222,
   "metadata": {
    "tags": []
   },
   "outputs": [],
   "source": [
    "tweet_train = stem(case_fold(clean_tweets(df_train['tweet'])))\n",
    "tweet_test = stem(case_fold(clean_tweets(df_test['tweet'])))"
   ]
  },
  {
   "cell_type": "code",
   "execution_count": 223,
   "metadata": {},
   "outputs": [],
   "source": [
    "from sklearn.feature_extraction.text import TfidfVectorizer\n",
    "\n",
    "tfidf_vect = TfidfVectorizer(use_idf=True)\n",
    "tweet_train_vect = tfidf_vect.fit_transform(tweet_train)\n",
    "tweet_test_vect = tfidf_vect.transform(tweet_test)"
   ]
  },
  {
   "cell_type": "code",
   "execution_count": 224,
   "metadata": {
    "tags": []
   },
   "outputs": [
    {
     "output_type": "stream",
     "name": "stdout",
     "text": [
      "25.865447419986936\n",
      "74.13455258001306\n"
     ]
    }
   ],
   "source": [
    "from sklearn.svm import SVC\n",
    "\n",
    "svm_c = SVC(kernel='linear')\n",
    "svm_c.fit(tweet_train_vect, df_train['category'])\n",
    "\n",
    "pred = svm_c.predict(tweet_test_vect)\n",
    "\n",
    "pos = list(filter(lambda s: s == 'positif', pred))\n",
    "neg = list(filter(lambda s: s == 'negatif', pred))\n",
    "\n",
    "total = len(df_test['tweet'])\n",
    "pos_percent = (len(pos) / total) * 100\n",
    "neg_percent = (len(neg) / total) * 100\n",
    "\n",
    "print(pos_percent)\n",
    "print(neg_percent)"
   ]
  },
  {
   "cell_type": "code",
   "execution_count": 225,
   "metadata": {},
   "outputs": [],
   "source": [
    "# TODO : test our model here"
   ]
  }
 ]
}