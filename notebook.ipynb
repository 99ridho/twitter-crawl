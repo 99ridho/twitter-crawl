{
 "metadata": {
  "language_info": {
   "codemirror_mode": {
    "name": "ipython",
    "version": 3
   },
   "file_extension": ".py",
   "mimetype": "text/x-python",
   "name": "python",
   "nbconvert_exporter": "python",
   "pygments_lexer": "ipython3",
   "version": "3.8.6-final"
  },
  "orig_nbformat": 2,
  "kernelspec": {
   "name": "Python 3.8.6 64-bit ('3.8.6')",
   "display_name": "Python 3.8.6 64-bit ('3.8.6')",
   "metadata": {
    "interpreter": {
     "hash": "27463e7d8f9c81c6c5e4312c7cb37a0a8f9c5b1225598cec8ab1817ebf8c64d0"
    }
   }
  }
 },
 "nbformat": 4,
 "nbformat_minor": 2,
 "cells": [
  {
   "cell_type": "code",
   "execution_count": null,
   "metadata": {
    "tags": []
   },
   "outputs": [],
   "source": [
    "import pandas\n",
    "\n",
    "df = pandas.read_csv('./out.csv', quotechar='\\'')"
   ]
  },
  {
   "cell_type": "code",
   "execution_count": null,
   "metadata": {},
   "outputs": [],
   "source": [
    "import re\n",
    "import string\n",
    "import demoji\n",
    "from Sastrawi.Stemmer.StemmerFactory import StemmerFactory\n",
    "from sklearn.feature_extraction.text import CountVectorizer\n",
    "\n",
    "demoji.download_codes()\n",
    "def clean_tweets(data):\n",
    "    new_data = data.copy()\n",
    "\n",
    "    username_hash = r'[#@]\\w+'\n",
    "    punctuation = '[%s]+' % re.escape(string.punctuation)\n",
    "    special_char = r'[^0-9a-zA-Z\\s]+'\n",
    "    number = r'[0-9]+'\n",
    "    space = r'\\s{2,}'\n",
    "    space_begin_end = r'^\\s+|\\s+$'\n",
    "    url = r'(https?|www):\\/{1,}\\w+\\W+\\w+\\/{1,}\\w+'\n",
    "    char_ref = r'&\\w+;'\n",
    "\n",
    "    for i in range(len(new_data)):\n",
    "        new_data[i] = re.sub(char_ref, ' ', new_data[i])\n",
    "        new_data[i] = re.sub(username_hash, '', new_data[i])\n",
    "        new_data[i] = re.sub(url, '', new_data[i])\n",
    "        new_data[i] = re.sub(punctuation, '', new_data[i])\n",
    "        new_data[i] = re.sub(number, '', new_data[i])\n",
    "        new_data[i] = re.sub(space_begin_end, '', new_data[i])\n",
    "        new_data[i] = re.sub(space, '', new_data[i])\n",
    "        new_data[i] = demoji.replace(new_data[i], '')\n",
    "        new_data[i] = re.sub(special_char, '', new_data[i])\n",
    "\n",
    "    return new_data\n",
    "\n",
    "def case_fold(data):\n",
    "    new_data = data.copy()\n",
    "    return list(map(lambda s: s.lower(), new_data))\n",
    "\n",
    "def tokenize(data):\n",
    "    new_data = data.copy()\n",
    "    return list(map(lambda s: s.split(' '), new_data))\n",
    "\n",
    "def stem(data):\n",
    "    new_data = data.copy()\n",
    "    stemmer = StemmerFactory().create_stemmer()\n",
    "\n",
    "    return list(map(lambda s: stemmer.stem(s), new_data))\n",
    "\n",
    "def get_term(data):\n",
    "    new_data = data.copy()\n",
    "    count_vectorizer = CountVectorizer()\n",
    "    count_vectorizer.fit(new_data)\n",
    "\n",
    "    return count_vectorizer.get_feature_names()"
   ]
  },
  {
   "cell_type": "code",
   "execution_count": null,
   "metadata": {
    "tags": [
     "outputPrepend"
    ]
   },
   "outputs": [],
   "source": [
    "labels = df['category']\n",
    "tweets = stem(case_fold(clean_tweets(df['tweet'])))\n",
    "term = get_term(tweets)\n",
    "\n",
    "print(term)"
   ]
  },
  {
   "cell_type": "code",
   "execution_count": null,
   "metadata": {},
   "outputs": [],
   "source": [
    "# from sklearn.model_selection import train_test_split\n",
    "# from sklearn.preprocessing import LabelEncoder\n",
    "\n",
    "# X_train, X_test, y_train, y_test = train_test_split(tweets, labels, test_size=0.2, random_state=13)\n",
    "\n",
    "# enc = LabelEncoder()\n",
    "# y_train = enc.fit_transform(y_train)\n",
    "# y_test = enc.fit_transform(y_test)\n",
    "\n",
    "# print(y_train)\n",
    "# print(y_test)"
   ]
  },
  {
   "cell_type": "code",
   "execution_count": null,
   "metadata": {},
   "outputs": [],
   "source": [
    "# from sklearn.feature_extraction.text import TfidfVectorizer\n",
    "\n",
    "# vect = TfidfVectorizer()\n",
    "# vect.fit(tweets)\n",
    "\n",
    "# X_train_tfidf = vect.transform(X_train)\n",
    "# X_test_tfidf = vect.transform(X_test)\n",
    "\n",
    "# print(vect.vocabulary_)"
   ]
  },
  {
   "cell_type": "code",
   "execution_count": null,
   "metadata": {},
   "outputs": [],
   "source": [
    "# from sklearn.svm import SVC\n",
    "# from sklearn.metrics import accuracy_score\n",
    "\n",
    "# svm_c = SVC(C=1.0, kernel='linear', degree=3, gamma='auto')\n",
    "# svm_c.fit(X_train_tfidf, y_train)\n",
    "# pred = svm_c.predict(X_test_tfidf)\n",
    "\n",
    "# print(accuracy_score(pred, y_test))"
   ]
  },
  {
   "cell_type": "code",
   "execution_count": null,
   "metadata": {},
   "outputs": [],
   "source": [
    "# from sklearn.naive_bayes import MultinomialNB\n",
    "\n",
    "# nb = MultinomialNB()\n",
    "# nb.fit(X_train_tfidf, y_train)\n",
    "# pred = nb.predict(X_test_tfidf)\n",
    "\n",
    "# print(accuracy_score(pred, y_test))"
   ]
  }
 ]
}